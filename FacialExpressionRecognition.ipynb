{
  "nbformat": 4,
  "nbformat_minor": 0,
  "metadata": {
    "colab": {
      "name": "FacialExpressionRecognition.ipynb",
      "provenance": [],
      "collapsed_sections": []
    },
    "kernelspec": {
      "name": "python3",
      "display_name": "Python 3"
    },
    "language_info": {
      "name": "python"
    },
    "accelerator": "GPU",
    "gpuClass": "standard"
  },
  "cells": [
    {
      "cell_type": "code",
      "execution_count": 13,
      "metadata": {
        "id": "wGYOYGOoMUUq"
      },
      "outputs": [],
      "source": [
        "import csv\n",
        "import numpy as np\n",
        "import matplotlib.pyplot as plt\n",
        "%matplotlib inline\n",
        "\n",
        "from tensorflow.keras.models import Sequential\n",
        "from tensorflow.keras.layers import Dense, Dropout, Activation, Flatten\n",
        "from tensorflow.keras.layers import Conv2D, MaxPooling2D, BatchNormalization\n",
        "from tensorflow.keras.losses import categorical_crossentropy\n",
        "from tensorflow.keras.optimizers import Adam\n",
        "from tensorflow.keras.regularizers import l2\n",
        "from sklearn.model_selection import train_test_split"
      ]
    },
    {
      "cell_type": "code",
      "source": [
        "# connect your google drive to access data\n",
        "from google.colab import drive\n",
        "drive.mount('/content/drive')"
      ],
      "metadata": {
        "colab": {
          "base_uri": "https://localhost:8080/"
        },
        "id": "le0MhP1JMtOV",
        "outputId": "0046be84-72de-4e29-e9dc-e5d0273d3e17"
      },
      "execution_count": 14,
      "outputs": [
        {
          "output_type": "stream",
          "name": "stdout",
          "text": [
            "Drive already mounted at /content/drive; to attempt to forcibly remount, call drive.mount(\"/content/drive\", force_remount=True).\n"
          ]
        }
      ]
    },
    {
      "cell_type": "code",
      "source": [
        "fer2013_dataset_file_path = 'drive/My Drive/Project/fer2013.csv'"
      ],
      "metadata": {
        "id": "8KIIk_7MMxID"
      },
      "execution_count": 15,
      "outputs": []
    },
    {
      "cell_type": "code",
      "source": [
        "train_images = []\n",
        "train_labels = []\n",
        "\n",
        "val_images = []\n",
        "val_labels = []\n",
        "\n",
        "test_images = []\n",
        "test_labels = []\n",
        "\n",
        "with open(fer2013_dataset_file_path) as csv_file:\n",
        "  csv_reader = csv.reader(csv_file, delimiter=',')\n",
        "  for row_id, row in enumerate(csv_reader):\n",
        "    if row_id == 0:\n",
        "      continue\n",
        "    label = np.zeros(7)\n",
        "    label[int(row[0])] = 1\n",
        "\n",
        "    image = list(map(int, row[1].split(' ')))\n",
        "    \n",
        "    if row[2] == 'Training':\n",
        "      train_labels.append(label)\n",
        "      train_images.append(image)\n",
        "    elif row[2] == 'PublicTest':\n",
        "      test_labels.append(label)\n",
        "      test_images.append(image)\n",
        "    elif row[2] == 'PrivateTest':\n",
        "      val_labels.append(label)\n",
        "      val_images.append(image)\n",
        "\n",
        "train_labels = np.asarray(train_labels, dtype=np.float32)\n",
        "train_images = np.asarray(train_images, dtype=np.float32).reshape(-1, 48, 48, 1)\n",
        "\n",
        "val_labels = np.asarray(val_labels, dtype=np.float32)\n",
        "val_images = np.asarray(val_images, dtype=np.float32).reshape(-1, 48, 48, 1)\n",
        "\n",
        "test_labels = np.asarray(test_labels, dtype=np.float32)\n",
        "test_images = np.asarray(test_images, dtype=np.float32).reshape(-1, 48, 48, 1)\n"
      ],
      "metadata": {
        "id": "DkRSPM43Mz-X"
      },
      "execution_count": 16,
      "outputs": []
    },
    {
      "cell_type": "code",
      "source": [
        "print('Train images:', train_images.shape)\n",
        "print('Train labels:', train_labels.shape)\n",
        "\n",
        "print('Val images:', val_images.shape)\n",
        "print('Val labels:', val_labels.shape)\n",
        "\n",
        "print('Test images:', test_images.shape)\n",
        "print('Test labels:', test_labels.shape)"
      ],
      "metadata": {
        "colab": {
          "base_uri": "https://localhost:8080/"
        },
        "id": "jxI9Au_DM3Jd",
        "outputId": "42213816-70e4-46e8-caec-f2f119b85e40"
      },
      "execution_count": 17,
      "outputs": [
        {
          "output_type": "stream",
          "name": "stdout",
          "text": [
            "Train images: (28709, 48, 48, 1)\n",
            "Train labels: (28709, 7)\n",
            "Val images: (3589, 48, 48, 1)\n",
            "Val labels: (3589, 7)\n",
            "Test images: (3589, 48, 48, 1)\n",
            "Test labels: (3589, 7)\n"
          ]
        }
      ]
    },
    {
      "cell_type": "code",
      "source": [
        "# normalization\n",
        "train_images /= 255\n",
        "val_images /= 255\n",
        "test_images /= 255"
      ],
      "metadata": {
        "id": "gyZHQ9TdNkdY"
      },
      "execution_count": 18,
      "outputs": []
    },
    {
      "cell_type": "code",
      "source": [
        "emotions = {\n",
        "    0: 'Angry', \n",
        "    1: 'Disgust',\n",
        "    2: 'Fear', \n",
        "    3: 'Happy',\n",
        "    4: 'Sad', \n",
        "    5: 'Surprise', \n",
        "    6: 'Neutral'\n",
        "}"
      ],
      "metadata": {
        "id": "QNXK6Ve2Nndu"
      },
      "execution_count": 19,
      "outputs": []
    },
    {
      "cell_type": "code",
      "source": [
        "index = 7\n",
        "print('Label array:', train_labels[index], '\\nLabel:', np.argmax(train_labels[index]),\n",
        "      '\\nEmotion:', emotions[np.argmax(train_labels[index])],\n",
        "      '\\nImage shape:', train_images[index].shape)\n",
        "plt.imshow(train_images[index].reshape(48, 48), cmap='gray')\n",
        "plt.show()"
      ],
      "metadata": {
        "colab": {
          "base_uri": "https://localhost:8080/",
          "height": 335
        },
        "id": "JqmRVVRqNrjt",
        "outputId": "6d5637b4-bbb2-4c91-e414-1ee7dd6fd8a2"
      },
      "execution_count": 20,
      "outputs": [
        {
          "output_type": "stream",
          "name": "stdout",
          "text": [
            "Label array: [0. 0. 0. 1. 0. 0. 0.] \n",
            "Label: 3 \n",
            "Emotion: Happy \n",
            "Image shape: (48, 48, 1)\n"
          ]
        },
        {
          "output_type": "display_data",
          "data": {
            "text/plain": [
              "<Figure size 432x288 with 1 Axes>"
            ],
            "image/png": "[encoded data removed]"
          },
          "metadata": {
            "needs_background": "light"
          }
        }
      ]
    },
    {
      "cell_type": "code",
      "source": [
        "input_shape = (48, 48, 1)\n",
        "num_labels = 7\n",
        "\n",
        "num_features = 64\n",
        "\n",
        "model = Sequential()\n",
        "\n",
        "model.add(Conv2D(32, kernel_size=(3,3), input_shape=input_shape, activation='relu'))\n",
        "\n",
        "model.add(Conv2D(64, kernel_size=(3,3), activation='relu'))\n",
        "model.add(MaxPooling2D(pool_size=(2, 2), strides=(2, 2)))\n",
        "model.add(Conv2D(128, kernel_size=(3,3), activation='relu'))\n",
        "model.add(MaxPooling2D(pool_size=(2, 2), strides=(2, 2)))\n",
        "model.add(Conv2D(512, kernel_size=(3,3), activation='relu'))\n",
        "model.add(MaxPooling2D(pool_size=(2, 2), strides=(2, 2)))\n",
        "model.add(Dropout(0.5))\n",
        "\n",
        "model.add(Flatten())\n",
        "\n",
        "model.add(Dense(1000, activation='relu'))\n",
        "model.add(Dropout(0.5))\n",
        "model.add(Dense(num_labels, activation='softmax'))\n",
        "\n",
        "model.summary()"
      ],
      "metadata": {
        "colab": {
          "base_uri": "https://localhost:8080/"
        },
        "id": "pneAOw-oNvgC",
        "outputId": "f7a7582d-7328-441d-9694-dcaf7f4b090b"
      },
      "execution_count": 21,
      "outputs": [
        {
          "output_type": "stream",
          "name": "stdout",
          "text": [
            "Model: \"sequential_1\"\n",
            "_________________________________________________________________\n",
            " Layer (type)                Output Shape              Param #   \n",
            "=================================================================\n",
            " conv2d_4 (Conv2D)           (None, 46, 46, 32)        320       \n",
            "                                                                 \n",
            " conv2d_5 (Conv2D)           (None, 44, 44, 64)        18496     \n",
            "                                                                 \n",
            " max_pooling2d_3 (MaxPooling  (None, 22, 22, 64)       0         \n",
            " 2D)                                                             \n",
            "                                                                 \n",
            " conv2d_6 (Conv2D)           (None, 20, 20, 128)       73856     \n",
            "                                                                 \n",
            " max_pooling2d_4 (MaxPooling  (None, 10, 10, 128)      0         \n",
            " 2D)                                                             \n",
            "                                                                 \n",
            " conv2d_7 (Conv2D)           (None, 8, 8, 512)         590336    \n",
            "                                                                 \n",
            " max_pooling2d_5 (MaxPooling  (None, 4, 4, 512)        0         \n",
            " 2D)                                                             \n",
            "                                                                 \n",
            " dropout_2 (Dropout)         (None, 4, 4, 512)         0         \n",
            "                                                                 \n",
            " flatten_1 (Flatten)         (None, 8192)              0         \n",
            "                                                                 \n",
            " dense_2 (Dense)             (None, 1000)              8193000   \n",
            "                                                                 \n",
            " dropout_3 (Dropout)         (None, 1000)              0         \n",
            "                                                                 \n",
            " dense_3 (Dense)             (None, 7)                 7007      \n",
            "                                                                 \n",
            "=================================================================\n",
            "Total params: 8,883,015\n",
            "Trainable params: 8,883,015\n",
            "Non-trainable params: 0\n",
            "_________________________________________________________________\n"
          ]
        }
      ]
    },
    {
      "cell_type": "code",
      "source": [
        "batch_size = 256\n",
        "epochs = 20\n",
        "\n",
        "#Compliling the model with adam optimixer and categorical crossentropy loss\n",
        "model.compile(loss=categorical_crossentropy,\n",
        "              optimizer=Adam(learning_rate=0.001, beta_1=0.9, beta_2=0.999, epsilon=1e-7),\n",
        "              metrics=['accuracy'])\n",
        "\n",
        "#training the model\n",
        "train_history = model.fit(\n",
        "    train_images, train_labels, \n",
        "    batch_size=batch_size, \n",
        "    epochs=epochs, \n",
        "    validation_data=(val_images, val_labels), \n",
        "    verbose=1)"
      ],
      "metadata": {
        "colab": {
          "base_uri": "https://localhost:8080/"
        },
        "id": "214jIeRON3Ol",
        "outputId": "daacb163-29ad-466b-bc4a-5b3cd2e0bfbb"
      },
      "execution_count": 22,
      "outputs": [
        {
          "output_type": "stream",
          "name": "stdout",
          "text": [
            "Epoch 1/20\n",
            "113/113 [==============================] - 7s 62ms/step - loss: 1.7755 - accuracy: 0.2640 - val_loss: 1.6695 - val_accuracy: 0.3249\n",
            "Epoch 2/20\n",
            "113/113 [==============================] - 7s 61ms/step - loss: 1.5411 - accuracy: 0.3975 - val_loss: 1.4193 - val_accuracy: 0.4606\n",
            "Epoch 3/20\n",
            "113/113 [==============================] - 7s 62ms/step - loss: 1.3539 - accuracy: 0.4837 - val_loss: 1.2712 - val_accuracy: 0.5166\n",
            "Epoch 4/20\n",
            "113/113 [==============================] - 7s 62ms/step - loss: 1.2401 - accuracy: 0.5299 - val_loss: 1.2029 - val_accuracy: 0.5291\n",
            "Epoch 5/20\n",
            "113/113 [==============================] - 7s 61ms/step - loss: 1.1790 - accuracy: 0.5559 - val_loss: 1.1390 - val_accuracy: 0.5637\n",
            "Epoch 6/20\n",
            "113/113 [==============================] - 7s 61ms/step - loss: 1.1129 - accuracy: 0.5780 - val_loss: 1.1068 - val_accuracy: 0.5701\n",
            "Epoch 7/20\n",
            "113/113 [==============================] - 7s 61ms/step - loss: 1.0601 - accuracy: 0.5993 - val_loss: 1.0751 - val_accuracy: 0.5968\n",
            "Epoch 8/20\n",
            "113/113 [==============================] - 7s 62ms/step - loss: 1.0091 - accuracy: 0.6209 - val_loss: 1.0500 - val_accuracy: 0.6038\n",
            "Epoch 9/20\n",
            "113/113 [==============================] - 7s 60ms/step - loss: 0.9652 - accuracy: 0.6362 - val_loss: 1.0454 - val_accuracy: 0.6071\n",
            "Epoch 10/20\n",
            "113/113 [==============================] - 7s 60ms/step - loss: 0.9227 - accuracy: 0.6534 - val_loss: 1.0284 - val_accuracy: 0.6152\n",
            "Epoch 11/20\n",
            "113/113 [==============================] - 7s 60ms/step - loss: 0.8846 - accuracy: 0.6709 - val_loss: 1.0146 - val_accuracy: 0.6194\n",
            "Epoch 12/20\n",
            "113/113 [==============================] - 7s 59ms/step - loss: 0.8377 - accuracy: 0.6873 - val_loss: 1.0206 - val_accuracy: 0.6275\n",
            "Epoch 13/20\n",
            "113/113 [==============================] - 7s 60ms/step - loss: 0.7939 - accuracy: 0.7035 - val_loss: 1.0157 - val_accuracy: 0.6230\n",
            "Epoch 14/20\n",
            "113/113 [==============================] - 7s 60ms/step - loss: 0.7494 - accuracy: 0.7196 - val_loss: 1.0043 - val_accuracy: 0.6381\n",
            "Epoch 15/20\n",
            "113/113 [==============================] - 7s 60ms/step - loss: 0.7152 - accuracy: 0.7323 - val_loss: 1.0096 - val_accuracy: 0.6358\n",
            "Epoch 16/20\n",
            "113/113 [==============================] - 7s 60ms/step - loss: 0.6731 - accuracy: 0.7485 - val_loss: 1.0086 - val_accuracy: 0.6422\n",
            "Epoch 17/20\n",
            "113/113 [==============================] - 7s 60ms/step - loss: 0.6388 - accuracy: 0.7640 - val_loss: 1.0146 - val_accuracy: 0.6336\n",
            "Epoch 18/20\n",
            "113/113 [==============================] - 7s 60ms/step - loss: 0.6121 - accuracy: 0.7730 - val_loss: 1.0615 - val_accuracy: 0.6333\n",
            "Epoch 19/20\n",
            "113/113 [==============================] - 7s 60ms/step - loss: 0.5653 - accuracy: 0.7902 - val_loss: 1.0205 - val_accuracy: 0.6375\n",
            "Epoch 20/20\n",
            "113/113 [==============================] - 7s 61ms/step - loss: 0.5438 - accuracy: 0.8018 - val_loss: 1.1032 - val_accuracy: 0.6436\n"
          ]
        }
      ]
    },
    {
      "cell_type": "code",
      "source": [
        "loss, accuracy = model.evaluate(test_images, test_labels, verbose=1)\n",
        "print('Loss:', loss, '\\nAccuracy:', accuracy * 100, '%')"
      ],
      "metadata": {
        "colab": {
          "base_uri": "https://localhost:8080/"
        },
        "id": "FPBsICpaN6LU",
        "outputId": "6345a877-3a88-4bbb-bc31-f8aaea3c0d9f"
      },
      "execution_count": 23,
      "outputs": [
        {
          "output_type": "stream",
          "name": "stdout",
          "text": [
            "113/113 [==============================] - 1s 5ms/step - loss: 1.1570 - accuracy: 0.6255\n",
            "Loss: 1.1569695472717285 \n",
            "Accuracy: 62.55224347114563 %\n"
          ]
        }
      ]
    }
  ]
}